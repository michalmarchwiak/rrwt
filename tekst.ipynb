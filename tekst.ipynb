# Dynamika zawodników defensywnych podczas meczu piłki nożnej. Optymalizacja ustawienia

Odkąd w Cambridge w 1848 roku zapisano pierwsze zasady piłki nożnej, gra nieustannie ewoluuje. Początkowo najpopularniejszą formacją była tak zwana „odwrócona piramida”, czyli ustawienie 1-2-3-5. Dopiero później uświadomiono sobie, że dwóch środkowych obrońców to zdecydowanie za mało, i dziś w formacji obronnej widujemy trzech, czterech, a nawet pięciu obrońców. 

Jeden z najlepszych menedżerów w piłce nożnej, Sir Alex Ferguson, powiedział:  
> *„Atak wygrywa ci mecze, obrona wygrywa ci trofea”*  

I jest w tym wiele prawdy. Aby wygrać mecz, zazwyczaj musisz zdobyć jedną bramkę więcej niż przeciwnik, a staje się to o wiele łatwiejsze, gdy twoja defensywa jest szczelna.

Na zachowanie obrońcy wpływa wiele czynników, ale my skupimy się głównie na trzech z nich: wyznaczonej pozycji, odległości od przeciwnika oraz odległości od kolegów z drużyny. W naszym projekcie postaramy się znaleźć optymalne zachowanie obrońców za pomocą równania różniczkowego i zdecydować, jaka mieszanka tych czynników przynosi najlepsze rezultaty w obronie własnej bramki. Oczywiście tak uproszczony model nie rozwiąże problemów menedżerów największych klubów piłkarskich, ale może okazać się pomocny przy planowaniu treningów czy tworzeniu piłkarskich gier komputerowych.

---

## Wzór na całkowitą siłę działającą na zawodnika

Równanie opisujące całkowitą siłę działającą na \(i\)-tego zawodnika w drużynie można zapisać jako:

\[
    \frac{d \mathbf{r}_{i}}{dt}=\mathbf{F}_{\text{pos},i}+\mathbf{F}_{\text{opp},i}+\mathbf{F}_{\text{team},i}
\]

Gdzie:

- \(\mathbf{r}_i(t)\): Pozycja \(i\)-tego obrońcy w czasie \(t\) jako wektor \([\mathbf{x}_i(t), \mathbf{y}_i(t)]\).
- \(\frac{d\mathbf{r}_i}{dt}\): Prędkość \(i\)-tego obrońcy (zmiana pozycji w czasie).
- \(\mathbf{F}_{\text{pos},i}\): Siła przyciągania \(i\)-tego obrońcy do ustalonej pozycji na boisku.
- \(\mathbf{F}_{\text{opp},i}\): Siła działająca na \(i\)-tego obrońcę reagująca na przeciwnika z piłką.
- \(\mathbf{F}_{\text{team},i}\): Siła działająca na \(i\)-tego obrońcę reagująca na pozycje kolegów z drużyny.

Zgodnie z **zasadą superpozycji** w mechanice klasycznej, siły pochodzące z różnych źródeł mogą być sumowane w celu wyznaczenia całkowitej siły działającej na ciało.

---

### 1. Siła dążenia do pozycji (\(\mathbf{F}_{\text{pos}, i}\))

Siła ta opisuje dążenie zawodnika do swojej wyznaczonej pozycji na boisku. Bazuje ona na **prawie Hooke’a** (siła sprężystości): \(F = -k \cdot x\).

\[
\mathbf{F}_{\text{pos}, i} = -k_{\text{pos}} \cdot (\mathbf{r}_i - \mathbf{r}_{\text{pos}, i})
\]

- \(\mathbf{r}_i\): aktualna pozycja \(i\)-tego zawodnika,  
- \(\mathbf{r}_{\text{pos}, i}\): wyznaczona pozycja \(i\)-tego zawodnika,  
- \(k_{\text{pos}}\): współczynnik określający intensywność dążenia do celu.

---

### 2. Siła przyciągania do przeciwnika (\(\mathbf{F}_{\text{opp}, i}\))

Siła ta opisuje reakcję zawodnika na pozycję przeciwnika. Bazuje ona na **prawie grawitacji** (przyciąganie ciał):

\[
\mathbf{F}_{\text{opp}, i} = \frac{k_{\text{opp}} \cdot (\mathbf{r}_{\text{opp}} - \mathbf{r}_i)}{\|\mathbf{r}_{\text{opp}} - \mathbf{r}_i\|^2 + \epsilon}
\]

- \(\mathbf{r}_{\text{opp}}\): pozycja przeciwnika z piłką,  
- \(\mathbf{r}_i\): aktualna pozycja \(i\)-tego zawodnika,  
- \(k_{\text{opp}}\): współczynnik określający intensywność reakcji na przeciwnika,  
- \(\epsilon\): mała wartość dodana w celu uniknięcia dzielenia przez zero.

---

### 3. Siła odpychania od kolegów z drużyny (\(\mathbf{F}_{\text{team}, i}\))

Siła ta opisuje interakcje przestrzenne zawodnika z innymi członkami drużyny. Bazuje ona na **prawie Coulomba** (odpychanie między ładunkami): \(F \sim \frac{1}{r^2}\).

\[
\mathbf{F}_{\text{team}, i} = \sum_{j \neq i} \frac{-k_{\text{team}} \cdot (\mathbf{r}_j - \mathbf{r}_i)}{\|\mathbf{r}_j - \mathbf{r}_i\|^2 + \epsilon}
\]

- \(\mathbf{r}_j\): pozycja \(j\)-tego kolegi z drużyny,  
- \(\mathbf{r}_i\): aktualna pozycja \(i\)-tego zawodnika,  
- \(k_{\text{team}}\): współczynnik określający intensywność odpychania,  
- \(\epsilon\): mała wartość dodana w celu uniknięcia dzielenia przez zero.

---

## Symulacja ataku na bramkę

Napastnicy przemieszczają się w linii prostej w stronę pola karnego, a zachowanie obrońców jest wynikową sumy sił działających na nich. Gdy dochodzi do spotkania defensora i atakującego z piłką, z prawdopodobieństwem 50%:

1. Piłka zostaje odebrana – symulacja kończy się sukcesem drużyny broniącej.
2. Napastnik podaje piłkę do najbliższego kolegi z drużyny.  

Zwycięstwem drużyny atakującej jest dotarcie do pola karnego przeciwnika.

---

## Optymalizacja

Chcemy znaleźć takie wartości parametrów \(k_{\text{pos}}, k_{\text{opp}}, k_{\text{team}}\), które maksymalizują funkcję celu:

\[
f(k_{\text{pos}}, k_{\text{opp}}, k_{\text{team}}) = \frac{1}{N} \sum_{i=1}^N \text{simulate}(k_{\text{pos}}, k_{\text{opp}}, k_{\text{team}})
\]

gdzie \(\text{simulate}\) zwraca wynik pojedynczej symulacji (1 dla sukcesu obrońców, 0 dla porażki), a \(N\) oznacza liczbę przeprowadzonych symulacji.

---

Możesz wkleić ten kod do komórki Markdown w Jupyter Notebook. Równania w LaTeX zostaną sformatowane i poprawnie wyświetlone po wykonaniu komórki.
