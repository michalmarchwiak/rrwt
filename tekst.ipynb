
# Dynamika zawodników defensywnych podczas meczu piłki nożnej. Optymalizacja ustawienia

Odkąd w Cambridge w 1848 roku zapisano pierwsze zasady piłki nożnej, gra nieustannie ewoluuje. Początkowo najpopularniejszą formacją była tak zwana „odwrócona piramida”, czyli ustawienie 1-2-3-5. Dopiero później uświadomiono sobie, że dwóch środkowych obrońców to zdecydowanie za mało, i dziś w formacji obronnej widujemy trzech, czterech, a nawet pięciu obrońców. Jeden z najlepszych menedżerów w piłce nożnej, Sir Alex Ferguson, powiedział: „Atak wygrywa ci mecze, obrona wygrywa ci trofea” – i jest w tym w...

Na zachowanie obrońcy wpływa wiele czynników, ale my skupimy się głównie na trzech z nich: wyznaczonej pozycji, odległości od przeciwnika oraz odległości od kolegów z drużyny. W naszym projekcie postaramy się znaleźć optymalne zachowanie obrońców za pomocą równania różniczkowego i zdecydować, jaka mieszanka tych czynników przynosi najlepsze rezultaty w obronie własnej bramki. Oczywiście tak uproszczony model nie rozwiąże problemów menedżerów największych klubów piłkarskich, ale może okazać się pomocny pr...

## Wzór na całkowitą siłę działającą na zawodnika

Równanie opisujące całkowitą siłę działającą na $i$-tego zawodnika w drużynie można zapisać jako:

\begin{equation}
    \frac{d \textbf{r}_{i}}{dt}=\textbf{F}_{pos,i}+\textbf{F}_{opp,i}+\textbf{F}_{team,i}
\end{equation}

Gdzie:

- \(\mathbf{r}_i(t)\): Pozycja \(i\)-tego obrońcy w czasie \(t\) jako wektor \([\mathbf{x}_i(t), \mathbf{y}_i(t)]\).
- \(\frac{d\mathbf{r}_i}{dt}\): Prędkość \(i\)-tego obrońcy (zmiana pozycji w czasie).
- \(\mathbf{F}_{\text{pos},i}\): Siła przyciągania \(i\)-tego obrońcy do ustalonej pozycji na boisku
- \(\mathbf{F}_{\text{opp},i}\): Siła działająca na \(i\)-tego obrońce reagująca na przeciwnika z piłką
- \(\mathbf{F}_{\text{team},i}\): Siła działająca na \(i\)-tego obrońce reagująca na pozycje kolegów z drużyny

Zgodnie z **zasadą superpozycji** w mechanice klasycznej, siły pochodzące z różnych źródeł mogą być sumowane w celu wyznaczenia całkowitej siły działającej na ciało.

### 1. Siła dążenia do pozycji (\(F_{\text{pos}, i}\))

Siła ta opisuje dążenie zawodnika do swojej wyznaczonej pozycji na boisku. Bazuje ona na **prawie Hooke’a** (siła sprężystości): \(F = -k \cdot x\).
\begin{equation}
F_{\text{pos}, i} = -k_{\text{pos}} \cdot (r_i - r_{\text{pos}, i})
\end{equation}

- \(r_i\) - aktualna pozycja \(i\)-tego zawodnika,
- \(r_{\text{pos}, i}\) - wyznaczona pozycja \(i\)-tego zawodnika,
- \(k_{\text{pos}}\) - współczynnik określający intensywność dążenia do celu.

### 2. Siła przyciągania do przeciwnika (\(F_{\text{opp}, i}\))

Siła ta opisuje reakcję zawodnika na pozycję przeciwnika. Bazuje ona na **prawie grawitacji** (przyciąganie ciał)
\begin{equation}
F_{\text{opp}, i} = \frac{k_{\text{opp}} \cdot (r_{\text{opp}} - r_i)}{\|r_{\text{opp}} - r_i\|^2 + \epsilon}
\end{equation}

- \(r_{\text{opp}}\) - pozycja przeciwnika z piłką,
- \(r_i\) - aktualna pozycja \(i\)-tego zawodnika,
- \(k_{\text{opp}}\) - współczynnik określający intensywność reakcji na przeciwnika,
- \(\epsilon\) - mała wartość dodana w celu uniknięcia dzielenia przez zero.

W naszym modelu zawodnik \(i\) jest przyciągany przez przeciwnika w punkcie \(\mathbf{r}_{\text{opp}}\), a siła maleje z kwadratem odległości (\(\|\mathbf{r}_{\text{opp}} - \mathbf{r}_i\|^2\)). Współczynnik \(k_{\text{opp}}\) kontroluje, jak silne jest przyciąganie, a \(\varepsilon\) zapobiega dzieleniu przez zero, gdy zawodnik \(i\) znajduje się bardzo blisko przeciwnika.

### 3. Siła odpychania od kolegów z drużyny (\(F_{\text{team}, i}\))

Siła ta opisuje interakcje przestrzenne zawodnika z innymi członkami drużyny. Bazuje ona na **prawie Coulomba** (odpychanie między ładunkami): \(F \sim \frac{1}{r^2}\).
\begin{equation}
F_{\text{team}, i} = \sum_{j \neq i} \frac{-k_{\text{team}} \cdot (r_j - r_i)}{\|r_j - r_i\|^2 + \epsilon}
\end{equation}

- \(r_j\) - pozycja \(j\)-tego kolegi z drużyny,
- \(r_i\) - aktualna pozycja \(i\)-tego zawodnika,
- \(k_{\text{team}}\) - współczynnik określający intensywność odpychania,
- \(\epsilon\) - mała wartość dodana w celu uniknięcia dzielenia przez zero.

Ten składnik inspirowany jest zjawiskiem "odpychania", podobnym do sił między naładowanymi cząstkami w modelu elektrostatycznym, gdzie zawodnicy unikają nadmiernego tłoku wokół siebie.

---

## Symulacja ataku na bramkę

Korzystając z naszego wzoru, przygotowaliśmy prostą symulację obrony akcji bramkowej. Napastnicy przemieszczają się w linii prostej w stronę pola karnego, a zachowanie obrońców jest wynikową sumy naszych sił działających na nich. Gdy dochodzi do spotkania defensora i atakującego z piłką, z prawdopodobieństwem 50 procent:
- albo piłka zostaje odebrana, co kończy symulację na korzyść drużyny broniącej,
- albo napastnik podaje piłkę do najbliższego kolegi z drużyny, który jest w bezpiecznej pozycji.

Zwycięstwem drużyny atakującej jest dotarcie do pola karnego przeciwnika.
